{
 "cells": [
  {
   "cell_type": "code",
   "execution_count": 119,
   "metadata": {},
   "outputs": [],
   "source": [
    "%matplotlib inline\n",
    "from matplotlib import pyplot as plt\n",
    "import numpy as np\n",
    "import tensorflow as tf\n",
    "from tensorflow import keras\n",
    "from tensorflow.keras import Sequential, layers\n",
    "from tensorflow.keras.layers import Conv2D, MaxPooling2D, Flatten, Dense\n",
    "from tensorflow.keras.utils import to_categorical"
   ]
  },
  {
   "cell_type": "code",
   "execution_count": 120,
   "metadata": {},
   "outputs": [],
   "source": [
    "import glob\n",
    "import os\n",
    "import PIL\n",
    "import time\n",
    "\n",
    "from IPython import display"
   ]
  },
  {
   "cell_type": "code",
   "execution_count": 121,
   "metadata": {},
   "outputs": [],
   "source": [
    "def make_generator_model():\n",
    "    model = tf.keras.Sequential()\n",
    "    model.add(layers.Dense(7*7*256, use_bias=False, input_shape=(100,)))\n",
    "    model.add(layers.BatchNormalization())\n",
    "    model.add(layers.LeakyReLU())\n",
    "\n",
    "    model.add(layers.Reshape((7, 7, 256)))\n",
    "    assert model.output_shape == (None, 7, 7, 256) # Note: None is the batch size\n",
    "\n",
    "    model.add(layers.Conv2DTranspose(128, (5, 5), strides=(1, 1), padding='same', use_bias=False))\n",
    "    assert model.output_shape == (None, 7, 7, 128)\n",
    "    model.add(layers.BatchNormalization())\n",
    "    model.add(layers.LeakyReLU())\n",
    "\n",
    "    model.add(layers.Conv2DTranspose(64, (5, 5), strides=(2, 2), padding='same', use_bias=False))\n",
    "    assert model.output_shape == (None, 14, 14, 64)\n",
    "    model.add(layers.BatchNormalization())\n",
    "    model.add(layers.LeakyReLU())\n",
    "\n",
    "    model.add(layers.Conv2DTranspose(1, (5, 5), strides=(2, 2), padding='same', use_bias=False, activation='tanh'))\n",
    "    assert model.output_shape == (None, 28, 28, 1)\n",
    "\n",
    "    return model"
   ]
  },
  {
   "cell_type": "code",
   "execution_count": 122,
   "metadata": {},
   "outputs": [],
   "source": [
    "def make_discriminator_model():\n",
    "    model = tf.keras.Sequential()\n",
    "    model.add(layers.Conv2D(64, (5, 5), strides=(2, 2), padding='same',\n",
    "                                     input_shape=[28, 28, 1]))\n",
    "    model.add(layers.LeakyReLU())\n",
    "    model.add(layers.Dropout(0.3))\n",
    "\n",
    "    model.add(layers.Conv2D(128, (5, 5), strides=(2, 2), padding='same'))\n",
    "    model.add(layers.LeakyReLU())\n",
    "    model.add(layers.Dropout(0.3))\n",
    "\n",
    "    model.add(layers.Flatten())\n",
    "    model.add(layers.Dense(1))\n",
    "\n",
    "    return model"
   ]
  },
  {
   "cell_type": "code",
   "execution_count": 123,
   "metadata": {},
   "outputs": [],
   "source": [
    "generator = make_generator_model()\n",
    "discriminator = make_discriminator_model()\n",
    "generator_optimizer = tf.keras.optimizers.Adam(1e-4)\n",
    "discriminator_optimizer = tf.keras.optimizers.Adam(1e-4)"
   ]
  },
  {
   "cell_type": "code",
   "execution_count": 124,
   "metadata": {},
   "outputs": [],
   "source": [
    "checkpoint_dir = './training_checkpoints'\n",
    "checkpoint_prefix = os.path.join(checkpoint_dir, \"ckpt\")\n",
    "checkpoint = tf.train.Checkpoint(generator_optimizer=generator_optimizer,\n",
    "                                 discriminator_optimizer=discriminator_optimizer,\n",
    "                                 generator=generator,\n",
    "                                 discriminator=discriminator)"
   ]
  },
  {
   "cell_type": "code",
   "execution_count": 125,
   "metadata": {},
   "outputs": [
    {
     "data": {
      "text/plain": [
       "<tensorflow.python.training.tracking.util.CheckpointLoadStatus at 0x21e4c2aee50>"
      ]
     },
     "execution_count": 125,
     "metadata": {},
     "output_type": "execute_result"
    }
   ],
   "source": [
    "checkpoint.restore(tf.train.latest_checkpoint(checkpoint_dir))"
   ]
  },
  {
   "cell_type": "code",
   "execution_count": 126,
   "metadata": {},
   "outputs": [
    {
     "data": {
      "text/plain": [
       "<matplotlib.image.AxesImage at 0x21e4bd0b850>"
      ]
     },
     "execution_count": 126,
     "metadata": {},
     "output_type": "execute_result"
    },
    {
     "data": {
      "image/png": "[encoded data removed]",
      "text/plain": [
       "<Figure size 432x288 with 1 Axes>"
      ]
     },
     "metadata": {
      "needs_background": "light"
     },
     "output_type": "display_data"
    }
   ],
   "source": [
    "noi = tf.random.normal([1, 100])\n",
    "sample = checkpoint.generator(noi, training=False)\n",
    "plt.imshow(sample[0, :, :, 0], cmap='gray')"
   ]
  },
  {
   "cell_type": "code",
   "execution_count": 127,
   "metadata": {},
   "outputs": [
    {
     "name": "stdout",
     "output_type": "stream",
     "text": [
      "Model: \"sequential_10\"\n",
      "_________________________________________________________________\n",
      "Layer (type)                 Output Shape              Param #   \n",
      "=================================================================\n",
      "conv2d_6 (Conv2D)            (None, 14, 14, 64)        1664      \n",
      "_________________________________________________________________\n",
      "leaky_re_lu_18 (LeakyReLU)   (None, 14, 14, 64)        0         \n",
      "_________________________________________________________________\n",
      "dropout_6 (Dropout)          (None, 14, 14, 64)        0         \n",
      "_________________________________________________________________\n",
      "conv2d_7 (Conv2D)            (None, 7, 7, 128)         204928    \n",
      "_________________________________________________________________\n",
      "leaky_re_lu_19 (LeakyReLU)   (None, 7, 7, 128)         0         \n",
      "_________________________________________________________________\n",
      "dropout_7 (Dropout)          (None, 7, 7, 128)         0         \n",
      "_________________________________________________________________\n",
      "flatten_3 (Flatten)          (None, 6272)              0         \n",
      "_________________________________________________________________\n",
      "dense_10 (Dense)             (None, 1)                 6273      \n",
      "=================================================================\n",
      "Total params: 212,865\n",
      "Trainable params: 212,865\n",
      "Non-trainable params: 0\n",
      "_________________________________________________________________\n"
     ]
    }
   ],
   "source": [
    "disc = checkpoint.discriminator\n",
    "disc.summary()"
   ]
  },
  {
   "cell_type": "code",
   "execution_count": 128,
   "metadata": {},
   "outputs": [
    {
     "name": "stdout",
     "output_type": "stream",
     "text": [
      "tf.Tensor([[0.03757003]], shape=(1, 1), dtype=float32)\n"
     ]
    }
   ],
   "source": [
    "val = disc(sample)\n",
    "print (val)"
   ]
  },
  {
   "cell_type": "markdown",
   "metadata": {},
   "source": [
    "Now, we transfer the weights of discriminator to a new model, with the only difference being that the new model's last dense layer has 10 parameters instead of 1."
   ]
  },
  {
   "cell_type": "code",
   "execution_count": 129,
   "metadata": {},
   "outputs": [
    {
     "name": "stdout",
     "output_type": "stream",
     "text": [
      "Model: \"sequential_11\"\n",
      "_________________________________________________________________\n",
      "Layer (type)                 Output Shape              Param #   \n",
      "=================================================================\n",
      "conv2d_6 (Conv2D)            (None, 14, 14, 64)        1664      \n",
      "_________________________________________________________________\n",
      "leaky_re_lu_18 (LeakyReLU)   (None, 14, 14, 64)        0         \n",
      "_________________________________________________________________\n",
      "dropout_6 (Dropout)          (None, 14, 14, 64)        0         \n",
      "_________________________________________________________________\n",
      "conv2d_7 (Conv2D)            (None, 7, 7, 128)         204928    \n",
      "_________________________________________________________________\n",
      "leaky_re_lu_19 (LeakyReLU)   (None, 7, 7, 128)         0         \n",
      "_________________________________________________________________\n",
      "dropout_7 (Dropout)          (None, 7, 7, 128)         0         \n",
      "_________________________________________________________________\n",
      "flatten_3 (Flatten)          (None, 6272)              0         \n",
      "_________________________________________________________________\n",
      "dense_11 (Dense)             (None, 10)                62730     \n",
      "=================================================================\n",
      "Total params: 269,322\n",
      "Trainable params: 62,730\n",
      "Non-trainable params: 206,592\n",
      "_________________________________________________________________\n"
     ]
    }
   ],
   "source": [
    "new_model = Sequential()\n",
    "\n",
    "for i in range(len(disc.layers) - 1):\n",
    "    new_model.add(disc.layers[i])\n",
    "\n",
    "# Freeze the layers \n",
    "for layer in new_model.layers:\n",
    "    layer.trainable = False    \n",
    "    \n",
    "new_model.add(Dense(10, activation='softmax'))\n",
    "new_model.summary()"
   ]
  },
  {
   "cell_type": "code",
   "execution_count": 130,
   "metadata": {},
   "outputs": [
    {
     "data": {
      "text/plain": [
       "[<tf.Variable 'dense_11/kernel:0' shape=(6272, 10) dtype=float32, numpy=\n",
       " array([[-0.02449893,  0.02258379,  0.0091687 , ...,  0.00757628,\n",
       "          0.00677153, -0.01724456],\n",
       "        [-0.03085168,  0.01888679, -0.01840483, ...,  0.00870611,\n",
       "          0.01324627, -0.007807  ],\n",
       "        [-0.02059158,  0.00471563,  0.00838945, ...,  0.02906673,\n",
       "          0.01892758,  0.02926539],\n",
       "        ...,\n",
       "        [-0.02610955,  0.01428325,  0.00242762, ...,  0.00369405,\n",
       "         -0.01687003,  0.00116782],\n",
       "        [ 0.01050323, -0.00339875, -0.00288171, ..., -0.03054104,\n",
       "         -0.0254591 ,  0.01242213],\n",
       "        [ 0.01733949, -0.0129328 , -0.00562442, ..., -0.01027293,\n",
       "          0.00390844,  0.01739017]], dtype=float32)>,\n",
       " <tf.Variable 'dense_11/bias:0' shape=(10,) dtype=float32, numpy=array([0., 0., 0., 0., 0., 0., 0., 0., 0., 0.], dtype=float32)>]"
      ]
     },
     "execution_count": 130,
     "metadata": {},
     "output_type": "execute_result"
    }
   ],
   "source": [
    "# view the initialized weights and bias of the last dense layer; weights are uniformly randomly generated \n",
    "# and biases are all zeroes by default\n",
    "new_model.layers[-1].weights"
   ]
  },
  {
   "cell_type": "code",
   "execution_count": 131,
   "metadata": {},
   "outputs": [
    {
     "name": "stdout",
     "output_type": "stream",
     "text": [
      "(60000, 28, 28) (60000,) (10000, 28, 28) (10000,) \n",
      "\n",
      "(10000, 28, 28) (10000,) (10000, 28, 28) (10000,)\n"
     ]
    }
   ],
   "source": [
    "(train_img, train_lb), (test_img, test_lb) = tf.keras.datasets.mnist.load_data()\n",
    "\n",
    "print(train_img.shape, train_lb.shape, test_img.shape, test_lb.shape, '\\n')\n",
    "\n",
    "# set random seed\n",
    "np.random.seed(42)\n",
    "trainsize = 10000  # number of training images we use, selected randomly\n",
    "randtrain = np.random.choice(train_img.shape[0], trainsize, replace=False)\n",
    "X_train, y_train = train_img[randtrain], train_lb[randtrain]\n",
    "\n",
    "np.random.seed(10)\n",
    "testsize = 10000  # number of testing images we use, selected randomly\n",
    "randtest = np.random.choice(test_img.shape[0], testsize, replace=False)\n",
    "X_test, y_test = test_img[randtest], test_lb[randtest]\n",
    "\n",
    "print(X_train.shape, y_train.shape, X_test.shape, y_test.shape)"
   ]
  },
  {
   "cell_type": "code",
   "execution_count": 132,
   "metadata": {},
   "outputs": [
    {
     "name": "stdout",
     "output_type": "stream",
     "text": [
      "Epoch 1/15\n",
      "100/100 [==============================] - 5s 46ms/step - loss: 1.6728 - accuracy: 0.5846 - val_loss: 1.2036 - val_accuracy: 0.7839\n",
      "Epoch 2/15\n",
      "100/100 [==============================] - 5s 45ms/step - loss: 1.0545 - accuracy: 0.7918 - val_loss: 0.8756 - val_accuracy: 0.8329\n",
      "Epoch 3/15\n",
      "100/100 [==============================] - 4s 44ms/step - loss: 0.8342 - accuracy: 0.8231 - val_loss: 0.7278 - val_accuracy: 0.8514\n",
      "Epoch 4/15\n",
      "100/100 [==============================] - 4s 44ms/step - loss: 0.7184 - accuracy: 0.8418 - val_loss: 0.6421 - val_accuracy: 0.8626\n",
      "Epoch 5/15\n",
      "100/100 [==============================] - 4s 43ms/step - loss: 0.6495 - accuracy: 0.8510 - val_loss: 0.5849 - val_accuracy: 0.8712\n",
      "Epoch 6/15\n",
      "100/100 [==============================] - 4s 42ms/step - loss: 0.5960 - accuracy: 0.8608 - val_loss: 0.5443 - val_accuracy: 0.8779\n",
      "Epoch 7/15\n",
      "100/100 [==============================] - 4s 43ms/step - loss: 0.5609 - accuracy: 0.8656 - val_loss: 0.5126 - val_accuracy: 0.8819\n",
      "Epoch 8/15\n",
      "100/100 [==============================] - 5s 48ms/step - loss: 0.5308 - accuracy: 0.8725 - val_loss: 0.4874 - val_accuracy: 0.8868\n",
      "Epoch 9/15\n",
      "100/100 [==============================] - 5s 48ms/step - loss: 0.5068 - accuracy: 0.8750 - val_loss: 0.4670 - val_accuracy: 0.8908\n",
      "Epoch 10/15\n",
      "100/100 [==============================] - 5s 48ms/step - loss: 0.4887 - accuracy: 0.8796 - val_loss: 0.4496 - val_accuracy: 0.8929\n",
      "Epoch 11/15\n",
      "100/100 [==============================] - 5s 48ms/step - loss: 0.4715 - accuracy: 0.8824 - val_loss: 0.4349 - val_accuracy: 0.8954\n",
      "Epoch 12/15\n",
      "100/100 [==============================] - 5s 49ms/step - loss: 0.4568 - accuracy: 0.8854 - val_loss: 0.4225 - val_accuracy: 0.8987\n",
      "Epoch 13/15\n",
      "100/100 [==============================] - 5s 48ms/step - loss: 0.4439 - accuracy: 0.8909 - val_loss: 0.4109 - val_accuracy: 0.9013\n",
      "Epoch 14/15\n",
      "100/100 [==============================] - 5s 50ms/step - loss: 0.4321 - accuracy: 0.8920 - val_loss: 0.4011 - val_accuracy: 0.9036\n",
      "Epoch 15/15\n",
      "100/100 [==============================] - 5s 49ms/step - loss: 0.4227 - accuracy: 0.8921 - val_loss: 0.3921 - val_accuracy: 0.9048\n"
     ]
    }
   ],
   "source": [
    "train_images = X_train.reshape((trainsize, 28, 28, 1))\n",
    "train_images = (train_images.astype('float32') - 127.5) / 127.5\n",
    "\n",
    "test_images = X_test.reshape((testsize, 28, 28, 1))\n",
    "test_images = (test_images.astype('float32') - 127.5) / 127.5\n",
    "\n",
    "train_labels = to_categorical(y_train)\n",
    "test_labels = to_categorical(y_test)\n",
    "\n",
    "new_model.compile(optimizer='sgd',\n",
    "                  loss='categorical_crossentropy',\n",
    "                  metrics=['accuracy'])\n",
    "\n",
    "history = new_model.fit(train_images, train_labels, batch_size=100, epochs=15,\n",
    "                        validation_data=(test_images, test_labels))\n"
   ]
  },
  {
   "cell_type": "code",
   "execution_count": 133,
   "metadata": {},
   "outputs": [
    {
     "data": {
      "image/png": "[encoded data removed]",
      "text/plain": [
       "<Figure size 432x288 with 1 Axes>"
      ]
     },
     "metadata": {
      "needs_background": "light"
     },
     "output_type": "display_data"
    }
   ],
   "source": [
    "plt.figure()\n",
    "plt.plot(history.history['accuracy'], label='accuracy')\n",
    "plt.plot(history.history['val_accuracy'], label = 'val_accuracy')\n",
    "plt.xlabel('Epoch')\n",
    "plt.ylabel('Accuracy')\n",
    "plt.ylim([0.3, 1])\n",
    "plt.legend(loc='lower right')\n",
    "plt.show()"
   ]
  },
  {
   "cell_type": "markdown",
   "metadata": {},
   "source": [
    "We can see that, using the tuned discriminator model, both training accuracy and testing are approximately 0.90 after 15 epochs."
   ]
  },
  {
   "cell_type": "code",
   "execution_count": 134,
   "metadata": {},
   "outputs": [
    {
     "name": "stdout",
     "output_type": "stream",
     "text": [
      "[[3.0603778e-04 1.9016847e-02 8.6738503e-01 6.6939279e-02 2.4525088e-04\n",
      "  4.3649747e-04 9.9102547e-03 1.1438006e-03 3.2791026e-02 1.8259240e-03]]\n",
      "prediction: 2\n"
     ]
    },
    {
     "data": {
      "image/png": "[encoded data removed]",
      "text/plain": [
       "<Figure size 432x288 with 1 Axes>"
      ]
     },
     "metadata": {
      "needs_background": "light"
     },
     "output_type": "display_data"
    }
   ],
   "source": [
    "# demonstration: predict the ith test digit\n",
    "i = 15\n",
    "prediction = new_model.predict(test_images[i].reshape(1,28,28,1))\n",
    "\n",
    "# get probability distribution and classification of the test digit\n",
    "print(prediction)\n",
    "print('prediction:', np.argmax(prediction))\n",
    "\n",
    "# draw the barplot\n",
    "plt.figure()\n",
    "plt.bar(np.arange(0,10).astype('str'), prediction[0,:])\n",
    "plt.show()"
   ]
  },
  {
   "cell_type": "code",
   "execution_count": 135,
   "metadata": {},
   "outputs": [
    {
     "name": "stdout",
     "output_type": "stream",
     "text": [
      "actual label: 2\n"
     ]
    },
    {
     "data": {
      "image/png": "[encoded data removed]",
      "text/plain": [
       "<Figure size 432x288 with 1 Axes>"
      ]
     },
     "metadata": {
      "needs_background": "light"
     },
     "output_type": "display_data"
    }
   ],
   "source": [
    "# show the actual ith digit\n",
    "print('actual label:', np.argmax(test_labels[i]))\n",
    "plt.figure()\n",
    "plt.imshow(test_images[i,:,:,0], cmap='gray')\n",
    "plt.show()"
   ]
  },
  {
   "cell_type": "code",
   "execution_count": 136,
   "metadata": {},
   "outputs": [],
   "source": [
    "pred_labels = new_model.predict(test_images).argmax(axis=1)\n",
    "true_labels = test_labels.argmax(axis=1)"
   ]
  },
  {
   "cell_type": "code",
   "execution_count": 137,
   "metadata": {},
   "outputs": [
    {
     "data": {
      "text/plain": [
       "array([[ 951,    0,    2,    1,    0,    6,   15,    1,    4,    0],\n",
       "       [   0, 1110,    5,    3,    0,    2,    5,    0,   10,    0],\n",
       "       [  20,   17,  879,   17,   10,    1,   16,   27,   39,    6],\n",
       "       [   5,    1,   15,  900,    1,   36,    8,   14,   20,   10],\n",
       "       [   2,    9,    6,    1,  903,    2,   13,    1,    6,   39],\n",
       "       [  11,    7,    1,   30,    4,  779,   17,    5,   24,   14],\n",
       "       [  23,    3,    9,    2,   12,   14,  891,    0,    4,    0],\n",
       "       [   6,   20,   26,    2,   10,    4,    1,  919,    3,   37],\n",
       "       [   8,    8,   15,   24,   13,   20,   13,   13,  836,   24],\n",
       "       [  16,    9,    6,   10,   40,   15,    1,   23,    9,  880]])"
      ]
     },
     "execution_count": 137,
     "metadata": {},
     "output_type": "execute_result"
    }
   ],
   "source": [
    "confusion_mat = tf.math.confusion_matrix(labels=true_labels, predictions=pred_labels).numpy()\n",
    "confusion_mat"
   ]
  },
  {
   "cell_type": "code",
   "execution_count": 138,
   "metadata": {},
   "outputs": [
    {
     "data": {
      "image/png": "[encoded data removed]",
      "text/plain": [
       "<Figure size 432x288 with 2 Axes>"
      ]
     },
     "metadata": {
      "needs_background": "light"
     },
     "output_type": "display_data"
    }
   ],
   "source": [
    "import pandas as pd\n",
    "import seaborn as sns\n",
    "\n",
    "confusion_mat_norm = np.around(confusion_mat.astype('float') / np.atleast_2d(confusion_mat.sum(axis=1)).T, decimals=2)\n",
    "\n",
    "classes = np.arange(0,10).astype('str')\n",
    "confusion_mat_df = pd.DataFrame(confusion_mat_norm,\n",
    "                                index = classes, \n",
    "                                columns = classes)\n",
    "\n",
    "figure = plt.figure()\n",
    "sns.heatmap(confusion_mat_df, annot=True, cmap=plt.cm.Blues)\n",
    "plt.tight_layout()\n",
    "plt.ylabel('True label')\n",
    "plt.xlabel('Predicted label')\n",
    "plt.show()"
   ]
  },
  {
   "cell_type": "code",
   "execution_count": null,
   "metadata": {},
   "outputs": [],
   "source": []
  }
 ],
 "metadata": {
  "kernelspec": {
   "display_name": "Python 3",
   "language": "python",
   "name": "python3"
  },
  "language_info": {
   "codemirror_mode": {
    "name": "ipython",
    "version": 3
   },
   "file_extension": ".py",
   "mimetype": "text/x-python",
   "name": "python",
   "nbconvert_exporter": "python",
   "pygments_lexer": "ipython3",
   "version": "3.8.3"
  }
 },
 "nbformat": 4,
 "nbformat_minor": 4
}
