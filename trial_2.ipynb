{
 "cells": [
  {
   "cell_type": "code",
   "execution_count": 494,
   "metadata": {},
   "outputs": [],
   "source": [
    "%matplotlib inline\n",
    "from matplotlib import pyplot as plt\n",
    "import numpy as np\n",
    "import tensorflow as tf\n",
    "from tensorflow import keras\n",
    "from tensorflow.keras import Sequential, layers\n",
    "from tensorflow.keras.layers import Conv2D, MaxPooling2D, Flatten, Dense\n",
    "from tensorflow.keras.utils import to_categorical"
   ]
  },
  {
   "cell_type": "code",
   "execution_count": 495,
   "metadata": {},
   "outputs": [],
   "source": [
    "import glob\n",
    "import os\n",
    "import PIL\n",
    "import time\n",
    "\n",
    "from IPython import display"
   ]
  },
  {
   "cell_type": "code",
   "execution_count": 496,
   "metadata": {},
   "outputs": [],
   "source": [
    "def make_generator_model():\n",
    "    model = tf.keras.Sequential()\n",
    "    model.add(layers.Dense(7*7*256, use_bias=False, input_shape=(100,)))\n",
    "    model.add(layers.BatchNormalization())\n",
    "    model.add(layers.LeakyReLU())\n",
    "\n",
    "    model.add(layers.Reshape((7, 7, 256)))\n",
    "    assert model.output_shape == (None, 7, 7, 256) # Note: None is the batch size\n",
    "\n",
    "    model.add(layers.Conv2DTranspose(128, (5, 5), strides=(1, 1), padding='same', use_bias=False))\n",
    "    assert model.output_shape == (None, 7, 7, 128)\n",
    "    model.add(layers.BatchNormalization())\n",
    "    model.add(layers.LeakyReLU())\n",
    "\n",
    "    model.add(layers.Conv2DTranspose(64, (5, 5), strides=(2, 2), padding='same', use_bias=False))\n",
    "    assert model.output_shape == (None, 14, 14, 64)\n",
    "    model.add(layers.BatchNormalization())\n",
    "    model.add(layers.LeakyReLU())\n",
    "\n",
    "    model.add(layers.Conv2DTranspose(1, (5, 5), strides=(2, 2), padding='same', use_bias=False, activation='tanh'))\n",
    "    assert model.output_shape == (None, 28, 28, 1)\n",
    "\n",
    "    return model"
   ]
  },
  {
   "cell_type": "code",
   "execution_count": 497,
   "metadata": {},
   "outputs": [],
   "source": [
    "def make_discriminator_model():\n",
    "    model = tf.keras.Sequential()\n",
    "    model.add(layers.Conv2D(64, (5, 5), strides=(2, 2), padding='same',\n",
    "                                     input_shape=[28, 28, 1]))\n",
    "    model.add(layers.LeakyReLU())\n",
    "    model.add(layers.Dropout(0.3))\n",
    "\n",
    "    model.add(layers.Conv2D(128, (5, 5), strides=(2, 2), padding='same'))\n",
    "    model.add(layers.LeakyReLU())\n",
    "    model.add(layers.Dropout(0.3))\n",
    "\n",
    "    model.add(layers.Flatten())\n",
    "    model.add(layers.Dense(1))\n",
    "\n",
    "    return model"
   ]
  },
  {
   "cell_type": "code",
   "execution_count": 498,
   "metadata": {},
   "outputs": [],
   "source": [
    "generator = make_generator_model()\n",
    "discriminator = make_discriminator_model()\n",
    "generator_optimizer = tf.keras.optimizers.Adam(1e-4)\n",
    "discriminator_optimizer = tf.keras.optimizers.Adam(1e-4)"
   ]
  },
  {
   "cell_type": "code",
   "execution_count": 499,
   "metadata": {},
   "outputs": [],
   "source": [
    "checkpoint_dir = './training_checkpoints'\n",
    "checkpoint_prefix = os.path.join(checkpoint_dir, \"ckpt\")\n",
    "checkpoint = tf.train.Checkpoint(generator_optimizer=generator_optimizer,\n",
    "                                 discriminator_optimizer=discriminator_optimizer,\n",
    "                                 generator=generator,\n",
    "                                 discriminator=discriminator)"
   ]
  },
  {
   "cell_type": "code",
   "execution_count": 500,
   "metadata": {},
   "outputs": [
    {
     "data": {
      "text/plain": [
       "<tensorflow.python.training.tracking.util.CheckpointLoadStatus at 0x1563e09c3d0>"
      ]
     },
     "execution_count": 500,
     "metadata": {},
     "output_type": "execute_result"
    }
   ],
   "source": [
    "checkpoint.restore(tf.train.latest_checkpoint(checkpoint_dir))"
   ]
  },
  {
   "cell_type": "code",
   "execution_count": 501,
   "metadata": {},
   "outputs": [
    {
     "data": {
      "text/plain": [
       "<matplotlib.image.AxesImage at 0x156444a3940>"
      ]
     },
     "execution_count": 501,
     "metadata": {},
     "output_type": "execute_result"
    },
    {
     "data": {
      "image/png": "[encoded data removed]",
      "text/plain": [
       "<Figure size 432x288 with 1 Axes>"
      ]
     },
     "metadata": {
      "needs_background": "light"
     },
     "output_type": "display_data"
    }
   ],
   "source": [
    "noi = tf.random.normal([1, 100])\n",
    "sample = checkpoint.generator(noi, training=False)\n",
    "plt.imshow(sample[0, :, :, 0], cmap='gray')"
   ]
  },
  {
   "cell_type": "code",
   "execution_count": 502,
   "metadata": {},
   "outputs": [
    {
     "name": "stdout",
     "output_type": "stream",
     "text": [
      "Model: \"sequential_67\"\n",
      "_________________________________________________________________\n",
      "Layer (type)                 Output Shape              Param #   \n",
      "=================================================================\n",
      "conv2d_44 (Conv2D)           (None, 14, 14, 64)        1664      \n",
      "_________________________________________________________________\n",
      "leaky_re_lu_113 (LeakyReLU)  (None, 14, 14, 64)        0         \n",
      "_________________________________________________________________\n",
      "dropout_44 (Dropout)         (None, 14, 14, 64)        0         \n",
      "_________________________________________________________________\n",
      "conv2d_45 (Conv2D)           (None, 7, 7, 128)         204928    \n",
      "_________________________________________________________________\n",
      "leaky_re_lu_114 (LeakyReLU)  (None, 7, 7, 128)         0         \n",
      "_________________________________________________________________\n",
      "dropout_45 (Dropout)         (None, 7, 7, 128)         0         \n",
      "_________________________________________________________________\n",
      "flatten_22 (Flatten)         (None, 6272)              0         \n",
      "_________________________________________________________________\n",
      "dense_67 (Dense)             (None, 1)                 6273      \n",
      "=================================================================\n",
      "Total params: 212,865\n",
      "Trainable params: 212,865\n",
      "Non-trainable params: 0\n",
      "_________________________________________________________________\n"
     ]
    }
   ],
   "source": [
    "disc = checkpoint.discriminator\n",
    "disc.summary()"
   ]
  },
  {
   "cell_type": "code",
   "execution_count": 503,
   "metadata": {},
   "outputs": [
    {
     "name": "stdout",
     "output_type": "stream",
     "text": [
      "tf.Tensor([[-0.652002]], shape=(1, 1), dtype=float32)\n"
     ]
    }
   ],
   "source": [
    "val = disc(sample)\n",
    "print (val)"
   ]
  },
  {
   "cell_type": "markdown",
   "metadata": {},
   "source": [
    "Now, we transfer the weights of discriminator to a new model, with the only difference being that the new model's last dense layer has 10 parameters instead of 1."
   ]
  },
  {
   "cell_type": "code",
   "execution_count": 504,
   "metadata": {},
   "outputs": [
    {
     "name": "stdout",
     "output_type": "stream",
     "text": [
      "Model: \"sequential_68\"\n",
      "_________________________________________________________________\n",
      "Layer (type)                 Output Shape              Param #   \n",
      "=================================================================\n",
      "conv2d_44 (Conv2D)           (None, 14, 14, 64)        1664      \n",
      "_________________________________________________________________\n",
      "leaky_re_lu_113 (LeakyReLU)  (None, 14, 14, 64)        0         \n",
      "_________________________________________________________________\n",
      "dropout_44 (Dropout)         (None, 14, 14, 64)        0         \n",
      "_________________________________________________________________\n",
      "conv2d_45 (Conv2D)           (None, 7, 7, 128)         204928    \n",
      "_________________________________________________________________\n",
      "leaky_re_lu_114 (LeakyReLU)  (None, 7, 7, 128)         0         \n",
      "_________________________________________________________________\n",
      "dropout_45 (Dropout)         (None, 7, 7, 128)         0         \n",
      "_________________________________________________________________\n",
      "flatten_22 (Flatten)         (None, 6272)              0         \n",
      "_________________________________________________________________\n",
      "dense_68 (Dense)             (None, 10)                62730     \n",
      "=================================================================\n",
      "Total params: 269,322\n",
      "Trainable params: 62,730\n",
      "Non-trainable params: 206,592\n",
      "_________________________________________________________________\n"
     ]
    }
   ],
   "source": [
    "new_model = Sequential()\n",
    "\n",
    "for i in range(len(disc.layers) - 1):\n",
    "    new_model.add(disc.layers[i])\n",
    "\n",
    "# freeze the layers \n",
    "for layer in new_model.layers:\n",
    "    layer.trainable = False    \n",
    "    \n",
    "new_model.add(Dense(10, activation='softmax'))\n",
    "new_model.summary()"
   ]
  },
  {
   "cell_type": "code",
   "execution_count": 505,
   "metadata": {},
   "outputs": [
    {
     "data": {
      "text/plain": [
       "[<tf.Variable 'dense_68/kernel:0' shape=(6272, 10) dtype=float32, numpy=\n",
       " array([[-0.01251988,  0.00992047,  0.00985532, ...,  0.0267175 ,\n",
       "          0.00675382, -0.01282704],\n",
       "        [-0.00616923,  0.02997103,  0.03005369, ..., -0.00873856,\n",
       "          0.0048786 ,  0.02359979],\n",
       "        [ 0.0134477 ,  0.00093581, -0.01567984, ...,  0.03086808,\n",
       "          0.01211554, -0.01863792],\n",
       "        ...,\n",
       "        [-0.02907815, -0.00998354,  0.00620069, ...,  0.03027847,\n",
       "          0.02443405, -0.00629715],\n",
       "        [ 0.00384514, -0.01022158,  0.01402976, ..., -0.00706678,\n",
       "         -0.02982565, -0.02726202],\n",
       "        [-0.01532045,  0.00947233, -0.02702774, ...,  0.02299141,\n",
       "         -0.00859891, -0.02178914]], dtype=float32)>,\n",
       " <tf.Variable 'dense_68/bias:0' shape=(10,) dtype=float32, numpy=array([0., 0., 0., 0., 0., 0., 0., 0., 0., 0.], dtype=float32)>]"
      ]
     },
     "execution_count": 505,
     "metadata": {},
     "output_type": "execute_result"
    }
   ],
   "source": [
    "# view the initialized weights and bias of the last dense layer; weights are uniformly randomly generated \n",
    "# and biases are all zeroes by default\n",
    "new_model.layers[-1].weights"
   ]
  },
  {
   "cell_type": "code",
   "execution_count": 506,
   "metadata": {},
   "outputs": [
    {
     "name": "stdout",
     "output_type": "stream",
     "text": [
      "(60000, 28, 28) (60000,) (10000, 28, 28) (10000,) \n",
      "\n",
      "(10000, 28, 28) (10000,) (10000, 28, 28) (10000,)\n"
     ]
    }
   ],
   "source": [
    "(train_img, train_lb), (test_img, test_lb) = tf.keras.datasets.mnist.load_data()\n",
    "\n",
    "print(train_img.shape, train_lb.shape, test_img.shape, test_lb.shape, '\\n')\n",
    "\n",
    "# set random seed\n",
    "np.random.seed(42)\n",
    "trainsize = 10000  # number of training images we use, selected randomly\n",
    "randtrain = np.random.choice(train_img.shape[0], trainsize, replace=False)\n",
    "X_train, y_train = train_img[randtrain], train_lb[randtrain]\n",
    "\n",
    "np.random.seed(10)\n",
    "testsize = 10000  # number of testing images we use, selected randomly\n",
    "randtest = np.random.choice(test_img.shape[0], testsize, replace=False)\n",
    "X_test, y_test = test_img[randtest], test_lb[randtest]\n",
    "\n",
    "print(X_train.shape, y_train.shape, X_test.shape, y_test.shape)"
   ]
  },
  {
   "cell_type": "code",
   "execution_count": 507,
   "metadata": {},
   "outputs": [
    {
     "data": {
      "text/plain": [
       "(2000, 28, 28)"
      ]
     },
     "execution_count": 507,
     "metadata": {},
     "output_type": "execute_result"
    }
   ],
   "source": [
    "X_train[-2000:].shape"
   ]
  },
  {
   "cell_type": "code",
   "execution_count": 508,
   "metadata": {},
   "outputs": [
    {
     "name": "stdout",
     "output_type": "stream",
     "text": [
      "Epoch 1/5\n",
      "100/100 [==============================] - 4s 43ms/step - loss: 1.6821 - accuracy: 0.5793 - val_loss: 1.2098 - val_accuracy: 0.7857\n",
      "Epoch 2/5\n",
      "100/100 [==============================] - 5s 51ms/step - loss: 1.0581 - accuracy: 0.7864 - val_loss: 0.8799 - val_accuracy: 0.8295\n",
      "Epoch 3/5\n",
      "100/100 [==============================] - 6s 61ms/step - loss: 0.8388 - accuracy: 0.8207 - val_loss: 0.7308 - val_accuracy: 0.8559\n",
      "Epoch 4/5\n",
      "100/100 [==============================] - 6s 59ms/step - loss: 0.7243 - accuracy: 0.8413 - val_loss: 0.6449 - val_accuracy: 0.8653\n",
      "Epoch 5/5\n",
      "100/100 [==============================] - 6s 63ms/step - loss: 0.6502 - accuracy: 0.8518 - val_loss: 0.5877 - val_accuracy: 0.8718\n"
     ]
    }
   ],
   "source": [
    "train_images = X_train.reshape((trainsize, 28, 28, 1))\n",
    "train_images = (train_images.astype('float32') - 127.5) / 127.5\n",
    "\n",
    "test_images = X_test.reshape((testsize, 28, 28, 1))\n",
    "test_images = (test_images.astype('float32') - 127.5) / 127.5\n",
    "\n",
    "train_labels = to_categorical(y_train)\n",
    "test_labels = to_categorical(y_test)\n",
    "\n",
    "new_model.compile(optimizer='sgd',\n",
    "                  loss='categorical_crossentropy',\n",
    "                  metrics=['accuracy'])\n",
    "\n",
    "history1 = new_model.fit(train_images, train_labels, batch_size=100, epochs=5,\n",
    "                        validation_data=(test_images, test_labels))\n"
   ]
  },
  {
   "cell_type": "code",
   "execution_count": 509,
   "metadata": {},
   "outputs": [
    {
     "name": "stdout",
     "output_type": "stream",
     "text": [
      "Epoch 1/10\n",
      "100/100 [==============================] - 11s 111ms/step - loss: 0.5129 - accuracy: 0.8635 - val_loss: 0.4259 - val_accuracy: 0.8837\n",
      "Epoch 2/10\n",
      "100/100 [==============================] - 12s 115ms/step - loss: 0.4426 - accuracy: 0.8697 - val_loss: 0.3863 - val_accuracy: 0.8912\n",
      "Epoch 3/10\n",
      "100/100 [==============================] - 11s 115ms/step - loss: 0.4077 - accuracy: 0.8793 - val_loss: 0.3617 - val_accuracy: 0.8954\n",
      "Epoch 4/10\n",
      "100/100 [==============================] - 11s 114ms/step - loss: 0.3818 - accuracy: 0.8839 - val_loss: 0.3433 - val_accuracy: 0.9002\n",
      "Epoch 5/10\n",
      "100/100 [==============================] - 11s 112ms/step - loss: 0.3646 - accuracy: 0.8925 - val_loss: 0.3273 - val_accuracy: 0.9053\n",
      "Epoch 6/10\n",
      "100/100 [==============================] - 11s 112ms/step - loss: 0.3480 - accuracy: 0.8936 - val_loss: 0.3141 - val_accuracy: 0.9100\n",
      "Epoch 7/10\n",
      "100/100 [==============================] - 11s 112ms/step - loss: 0.3376 - accuracy: 0.8991 - val_loss: 0.3037 - val_accuracy: 0.9131\n",
      "Epoch 8/10\n",
      "100/100 [==============================] - 11s 114ms/step - loss: 0.3215 - accuracy: 0.9039 - val_loss: 0.2950 - val_accuracy: 0.9167\n",
      "Epoch 9/10\n",
      "100/100 [==============================] - 11s 112ms/step - loss: 0.3139 - accuracy: 0.9038 - val_loss: 0.2842 - val_accuracy: 0.9190\n",
      "Epoch 10/10\n",
      "100/100 [==============================] - 11s 112ms/step - loss: 0.2987 - accuracy: 0.9119 - val_loss: 0.2763 - val_accuracy: 0.9207\n"
     ]
    }
   ],
   "source": [
    "# unfreeze all layers \n",
    "for layer in new_model.layers:\n",
    "    layer.trainable = True\n",
    "\n",
    "# optimizer=new_model.optimizer\n",
    "# optimizer.learning_rate=0.005\n",
    "    \n",
    "new_model.compile(optimizer='sgd',\n",
    "                  loss='categorical_crossentropy',\n",
    "                  metrics=['accuracy'])\n",
    "\n",
    "history2 = new_model.fit(train_images, train_labels, batch_size=100, epochs=10,\n",
    "                        validation_data=(test_images, test_labels)) \n"
   ]
  },
  {
   "cell_type": "code",
   "execution_count": 510,
   "metadata": {},
   "outputs": [
    {
     "data": {
      "image/png": "[encoded data removed]",
      "text/plain": [
       "<Figure size 432x288 with 1 Axes>"
      ]
     },
     "metadata": {
      "needs_background": "light"
     },
     "output_type": "display_data"
    }
   ],
   "source": [
    "accuracy = history1.history['accuracy'] + history2.history['accuracy']\n",
    "val_accuracy = history1.history['val_accuracy'] + history2.history['val_accuracy']\n",
    "\n",
    "plt.figure()\n",
    "plt.plot(accuracy, label='accuracy')\n",
    "plt.plot(val_accuracy, label = 'val_accuracy')\n",
    "plt.xlabel('Epoch')\n",
    "plt.ylabel('Accuracy')\n",
    "plt.ylim([0.3, 1])\n",
    "plt.legend(loc='lower right')\n",
    "plt.show()"
   ]
  },
  {
   "cell_type": "markdown",
   "metadata": {},
   "source": [
    "We can see that, using the tuned discriminator model, training accuracy and testing are around 0.91 and 0.92 after 15 epochs."
   ]
  },
  {
   "cell_type": "code",
   "execution_count": 511,
   "metadata": {},
   "outputs": [
    {
     "name": "stdout",
     "output_type": "stream",
     "text": [
      "[[2.9793746e-06 3.1210182e-04 9.8530954e-01 1.2565834e-02 2.9811892e-07\n",
      "  3.1053569e-06 1.3645126e-04 3.3899209e-06 1.6609745e-03 5.3962726e-06]]\n",
      "prediction: 2\n"
     ]
    },
    {
     "data": {
      "image/png": "[encoded data removed]",
      "text/plain": [
       "<Figure size 432x288 with 1 Axes>"
      ]
     },
     "metadata": {
      "needs_background": "light"
     },
     "output_type": "display_data"
    }
   ],
   "source": [
    "# demonstration: predict the ith test digit\n",
    "i = 15\n",
    "prediction = new_model.predict(test_images[i].reshape(1,28,28,1))\n",
    "# get probability distribution and classification of the test digit\n",
    "print(prediction)\n",
    "print('prediction:', np.argmax(prediction))\n",
    "\n",
    "# draw the barplot\n",
    "plt.figure()\n",
    "plt.bar(np.arange(0,10).astype('str'), prediction[0,:])\n",
    "plt.show()"
   ]
  },
  {
   "cell_type": "code",
   "execution_count": 512,
   "metadata": {},
   "outputs": [
    {
     "name": "stdout",
     "output_type": "stream",
     "text": [
      "actual label: 2\n"
     ]
    },
    {
     "data": {
      "image/png": "[encoded data removed]",
      "text/plain": [
       "<Figure size 432x288 with 1 Axes>"
      ]
     },
     "metadata": {
      "needs_background": "light"
     },
     "output_type": "display_data"
    }
   ],
   "source": [
    "# show the actual ith digit\n",
    "print('actual label:', np.argmax(test_labels[i]))\n",
    "plt.figure()\n",
    "plt.imshow(test_images[i,:,:,0], cmap='gray')\n",
    "plt.show()"
   ]
  },
  {
   "cell_type": "code",
   "execution_count": 513,
   "metadata": {},
   "outputs": [],
   "source": [
    "pred_labels = new_model.predict(test_images).argmax(axis=1)\n",
    "true_labels = test_labels.argmax(axis=1)"
   ]
  },
  {
   "cell_type": "code",
   "execution_count": 514,
   "metadata": {},
   "outputs": [
    {
     "data": {
      "text/plain": [
       "array([[ 955,    0,    1,    1,    0,    7,   12,    1,    3,    0],\n",
       "       [   0, 1104,    2,    5,    1,    2,    5,    0,   16,    0],\n",
       "       [  13,    2,  912,   22,   14,    3,   11,   19,   31,    5],\n",
       "       [   3,    0,   11,  931,    1,   30,    1,   10,   15,    8],\n",
       "       [   2,    1,    4,    1,  919,    2,   10,    1,    9,   33],\n",
       "       [   4,    3,    1,   27,    0,  807,   13,    4,   26,    7],\n",
       "       [  24,    3,    5,    2,   14,   15,  892,    0,    3,    0],\n",
       "       [   5,   11,   24,    7,    8,    2,    0,  936,    4,   31],\n",
       "       [   7,    7,    8,   30,    9,   19,    8,   13,  860,   13],\n",
       "       [  14,    5,    6,   10,   33,   14,    0,   20,   16,  891]])"
      ]
     },
     "execution_count": 514,
     "metadata": {},
     "output_type": "execute_result"
    }
   ],
   "source": [
    "confusion_mat = tf.math.confusion_matrix(labels=true_labels, predictions=pred_labels).numpy()\n",
    "confusion_mat"
   ]
  },
  {
   "cell_type": "code",
   "execution_count": 515,
   "metadata": {},
   "outputs": [
    {
     "data": {
      "image/png": "[encoded data removed]",
      "text/plain": [
       "<Figure size 432x288 with 2 Axes>"
      ]
     },
     "metadata": {
      "needs_background": "light"
     },
     "output_type": "display_data"
    }
   ],
   "source": [
    "import pandas as pd\n",
    "import seaborn as sns\n",
    "\n",
    "confusion_mat_norm = np.around(confusion_mat.astype('float') / np.atleast_2d(confusion_mat.sum(axis=1)).T, decimals=2)\n",
    "\n",
    "classes = np.arange(0,10).astype('str')\n",
    "confusion_mat_df = pd.DataFrame(confusion_mat_norm,\n",
    "                                index = classes, \n",
    "                                columns = classes)\n",
    "\n",
    "figure = plt.figure()\n",
    "sns.heatmap(confusion_mat_df, annot=True, cmap=plt.cm.Blues)\n",
    "plt.tight_layout()\n",
    "plt.ylabel('True label')\n",
    "plt.xlabel('Predicted label')\n",
    "plt.show()"
   ]
  },
  {
   "cell_type": "code",
   "execution_count": null,
   "metadata": {},
   "outputs": [],
   "source": []
  }
 ],
 "metadata": {
  "kernelspec": {
   "display_name": "Python 3",
   "language": "python",
   "name": "python3"
  },
  "language_info": {
   "codemirror_mode": {
    "name": "ipython",
    "version": 3
   },
   "file_extension": ".py",
   "mimetype": "text/x-python",
   "name": "python",
   "nbconvert_exporter": "python",
   "pygments_lexer": "ipython3",
   "version": "3.8.3"
  }
 },
 "nbformat": 4,
 "nbformat_minor": 4
}
